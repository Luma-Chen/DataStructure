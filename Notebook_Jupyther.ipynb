{
  "nbformat": 4,
  "nbformat_minor": 0,
  "metadata": {
    "colab": {
      "name": "Notebook Jupyther.ipynb",
      "provenance": [],
      "collapsed_sections": [],
      "toc_visible": true,
      "include_colab_link": true
    },
    "kernelspec": {
      "name": "ir",
      "display_name": "R"
    },
    "language_info": {
      "name": "R"
    }
  },
  "cells": [
    {
      "cell_type": "markdown",
      "metadata": {
        "id": "view-in-github",
        "colab_type": "text"
      },
      "source": [
        "<a href=\"https://colab.research.google.com/github/Luma-Chen/DataStructure/blob/master/Notebook_Jupyther.ipynb\" target=\"_parent\"><img src=\"https://colab.research.google.com/assets/colab-badge.svg\" alt=\"Open In Colab\"/></a>"
      ]
    },
    {
      "cell_type": "markdown",
      "metadata": {
        "id": "lp2i3gmoPfuN"
      },
      "source": [
        "# **Trabalho I - Inferência Estatística**\n",
        "# **Responsável: Luma Chen**"
      ]
    },
    {
      "cell_type": "markdown",
      "metadata": {
        "id": "ty0d8HuCQwxQ"
      },
      "source": [
        "# **1- Estimativas de probabilidades**"
      ]
    },
    {
      "cell_type": "markdown",
      "metadata": {
        "id": "flUAulynRPJg"
      },
      "source": [
        "A partir da função “summary” obtemos o valor mínimo, o primeiro quartil, a\n",
        "mediana, a média, o terceiro quartil e o valor máximo. Para a variável ‘Age’,\n",
        "o resultado foi: valor mínimo = 17, primeiro quartil = 28, mediana = 37,\n",
        "média = 38.58, terceiro quartil = 48 e valor máximo = 90.\n",
        "<br>\n",
        "A menor idade do conjunto “adult” é 17 anos e a idade máxima é de 90 anos.\n",
        "O primeiro quartil representa 25% dos dados, nesse caso indicando que 25%\n",
        "das pessoas tem idade menor ou igual a 28 anos e o terceiro quartil corres\u0002ponde a 75% dos dados, indicando que 75% das pessoas tem idade menor ou\n",
        "igual a 48 anos. \n",
        "<br>\n",
        "A mediana é o valor do meio quando organizamos os dados\n",
        "em ordem crescente e a média é obtida somando as idades e dividindo pelo\n",
        "total de indivíduos.\n",
        "<br>\n",
        "O boxplot possui valores extremos (outliers) que representam as pessoas\n",
        "com idade além do limite superior (48 + 1,5*(48 - 28)), ou seja, pessoas a\n",
        "partir de 78 anos.\n"
      ]
    },
    {
      "cell_type": "code",
      "metadata": {
        "colab": {
          "base_uri": "https://localhost:8080/",
          "height": 473
        },
        "id": "e9CwN2Q4MySC",
        "outputId": "45c84dbd-eee3-42e3-aab6-a40497e8ade3"
      },
      "source": [
        "url <- \"http://archive.ics.uci.edu/ml/machine-learning-databases/adult/adult.data\"\n",
        "adult <- read.csv(url, strip.white = TRUE , header = FALSE)\n",
        "colnames(adult) <- c(\"age\", \"workclass\", \"finalweight\", \"education\", \"education-num\", \"martial-status\", \"occupation\", \"relationship\", \"race\", \"sex\", \"capital-gain\", \"capital-loss\", \"hours-per-week\", \"native-country\",\"income\")\n",
        "\n",
        "summary(adult $ age) \n",
        "boxplot(adult $ age, horizontal = TRUE, xlab = \"Idades\", main = \"Boxplot de Idade\", col = \"lightpink\")\n"
      ],
      "execution_count": null,
      "outputs": [
        {
          "output_type": "display_data",
          "data": {
            "text/plain": [
              "   Min. 1st Qu.  Median    Mean 3rd Qu.    Max. \n",
              "  17.00   28.00   37.00   38.58   48.00   90.00 "
            ]
          },
          "metadata": {
            "tags": []
          }
        },
        {
          "output_type": "display_data",
          "data": {
            "image/png": "[encoded data removed]",
            "text/plain": [
              "Plot with title “Boxplot de Idade”"
            ]
          },
          "metadata": {
            "tags": [],
            "image/png": {
              "width": 420,
              "height": 420
            }
          }
        }
      ]
    },
    {
      "cell_type": "markdown",
      "metadata": {
        "id": "6xjvs9oKcCj_"
      },
      "source": [
        "# Probabilidade de uma pessoa ter mais de 80 anos dado que tem Salary > 50000\n"
      ]
    },
    {
      "cell_type": "markdown",
      "metadata": {
        "id": "_a0ImYyLTRsA"
      },
      "source": [
        "Começando com “qntLinhas”, que recebe a quantidade total de linhas do dataset.\n",
        "<br>\n",
        "“maior50” conta a ocorrência de pessoas com salário maior que cinquenta mil e “n1” guarda a quantidade de resultados.\n",
        "<br>\n",
        "Com essa informação, “mais80Maior50” conta a ocorrência de\n",
        "pessoas com mais de 80 anos dado que ganha mais de cinquenta mil e “n2”\n",
        "guarda a quantidade de resultados.\n",
        "<br>\n",
        "Ao final, a probabilidade é calculada. Probabilidade = 0.001785487.\n"
      ]
    },
    {
      "cell_type": "code",
      "metadata": {
        "colab": {
          "base_uri": "https://localhost:8080/",
          "height": 35
        },
        "id": "86ITb3FMVKNo",
        "outputId": "4bdf8870-67fe-4bc5-9195-9e0cd2e3e567"
      },
      "source": [
        "qntLinhas = nrow(adult)\n",
        "maior50 <- adult[(adult[\"income\"] == \">50K\"),]\n",
        "\n",
        "n1 = nrow(maior50)\n",
        "probMaior50 = n1/qntLinhas\n",
        "mais80Maior50 <- maior50[(maior50[\"age\"] > 80 ) ,]\n",
        "n2 = nrow(mais80Maior50)\n",
        "probMais80Maior50 = n2/qntLinhas\n",
        "\n",
        "prob1 = probMais80Maior50/probMaior50\n",
        "prob1"
      ],
      "execution_count": null,
      "outputs": [
        {
          "output_type": "display_data",
          "data": {
            "text/plain": [
              "[1] 0.001785487"
            ],
            "text/latex": "0.00178548654508354",
            "text/markdown": "0.00178548654508354",
            "text/html": [
              "0.00178548654508354"
            ]
          },
          "metadata": {
            "tags": []
          }
        }
      ]
    },
    {
      "cell_type": "markdown",
      "metadata": {
        "id": "JbTNjIsbeJjA"
      },
      "source": [
        "# Probabilidade de uma pessoa ter mais de 80 anos e salário maior que 50000"
      ]
    },
    {
      "cell_type": "markdown",
      "metadata": {
        "id": "1483bB9La0aD"
      },
      "source": [
        "A probabilidade de uma pessoa ter mais de 80 anos e sálario maior que\n",
        "50 mil já foi calculada acima. Probabilidade = 0.0004299622"
      ]
    },
    {
      "cell_type": "code",
      "metadata": {
        "colab": {
          "base_uri": "https://localhost:8080/",
          "height": 35
        },
        "id": "zUGS5Qytb5LZ",
        "outputId": "ceb0f535-cf65-422a-d6b1-3f052bc20252"
      },
      "source": [
        "n2 = nrow(mais80Maior50)\n",
        "\n",
        "probMais80Maior50 = n2/qntLinhas\n",
        "probMais80Maior50"
      ],
      "execution_count": null,
      "outputs": [
        {
          "output_type": "display_data",
          "data": {
            "text/plain": [
              "[1] 0.0004299622"
            ],
            "text/latex": "0.000429962224747397",
            "text/markdown": "0.000429962224747397",
            "text/html": [
              "0.000429962224747397"
            ]
          },
          "metadata": {
            "tags": []
          }
        }
      ]
    },
    {
      "cell_type": "markdown",
      "metadata": {
        "id": "XQQ9jhgNhIUV"
      },
      "source": [
        "# Pr(Workclass= State-gov, Occupation= Adm-clerical, Sex= Male)"
      ]
    },
    {
      "cell_type": "markdown",
      "metadata": {
        "id": "jCnSW1z4hYih"
      },
      "source": [
        "A variável “stateAdmMale” conta a ocorrência de homens cujo\n",
        "trabalho é “State-gov” e cargo “Adm-clerical”. \n",
        "<br>\n",
        "“num3” guarda a quantidade de resultados e a probabilidade é calculada dividindo “num3” por “qntLinhas”. Probabilidade = 0.002825466.\n"
      ]
    },
    {
      "cell_type": "code",
      "metadata": {
        "colab": {
          "base_uri": "https://localhost:8080/",
          "height": 35
        },
        "id": "0PX03jRfhiWk",
        "outputId": "6e4138e6-3cfb-490d-d396-09721127e3fc"
      },
      "source": [
        "stateAdmMale <- adult[(adult[\"workclass\"] == \"State-gov\") & (adult[\"occupation\"] == \"Adm-clerical\") & (adult[\"sex\"] == \"Male\"),]\n",
        "num3 = nrow(stateAdmMale)\n",
        "prob3 = num3/qntLinhas\n",
        "prob3"
      ],
      "execution_count": null,
      "outputs": [
        {
          "output_type": "display_data",
          "data": {
            "text/plain": [
              "[1] 0.002825466"
            ],
            "text/latex": "0.00282546604834004",
            "text/markdown": "0.00282546604834004",
            "text/html": [
              "0.00282546604834004"
            ]
          },
          "metadata": {
            "tags": []
          }
        }
      ]
    },
    {
      "cell_type": "markdown",
      "metadata": {
        "id": "HMDdY3PVjh7q"
      },
      "source": [
        "# Pr(Workclass= Self-emp-inc, Occupation= Exec-managerial, Sex=Male)"
      ]
    },
    {
      "cell_type": "markdown",
      "metadata": {
        "id": "xS6_hM10jrL-"
      },
      "source": [
        "A variável “selfExecMale” conta a ocorrência de homens cujo\n",
        "trabalho é “Self-emp-inc” e cargo “Exerc-managerial”. \n",
        "<br>\n",
        "“num4” guarda a quantidade de resultados e a probabilidade é calculada dividindo “num4”por “qntLinhas”. Probabilidade = 0.01099475.\n"
      ]
    },
    {
      "cell_type": "code",
      "metadata": {
        "colab": {
          "base_uri": "https://localhost:8080/",
          "height": 35
        },
        "id": "__N3FGLXkAM2",
        "outputId": "3237da8a-ca76-4e4c-9853-b2362604c6d3"
      },
      "source": [
        "selfExecMale <- adult[(adult[\"workclass\"] == \"Self-emp-inc\") & (adult[\"occupation\"] == \"Exec-managerial\") & (adult[\"sex\"] == \"Male\"),]\n",
        "num4 = nrow(selfExecMale) \n",
        "prob4 = num4/qntLinhas\n",
        "prob4"
      ],
      "execution_count": null,
      "outputs": [
        {
          "output_type": "display_data",
          "data": {
            "text/plain": [
              "[1] 0.01099475"
            ],
            "text/latex": "0.0109947483185406",
            "text/markdown": "0.0109947483185406",
            "text/html": [
              "0.0109947483185406"
            ]
          },
          "metadata": {
            "tags": []
          }
        }
      ]
    },
    {
      "cell_type": "markdown",
      "metadata": {
        "id": "Mtt6MFaqlmOn"
      },
      "source": [
        "# **2- Distribuição Normal**"
      ]
    },
    {
      "cell_type": "markdown",
      "metadata": {
        "id": "bdqXeCdylspk"
      },
      "source": [
        "Para gerar amostras de 10 e 10000 elementos de observações de uma\n",
        "distribuição normal utilizou-se a função ‘rnorm’, que recebe como parâmetro o tamanho das amostras a serem geradas e foi armazenado na variável “x”. \n",
        "<br>\n",
        "A função ‘pnorm’ nos gera a função de distribuição. De acordo com os valores obtidos, podemos compará-los com o valor esperado pela questão e, ao aumentar o tamanho das amostras, a probabilidade se aproxima mais do valor esperado.\n"
      ]
    },
    {
      "cell_type": "markdown",
      "metadata": {
        "id": "GlEIOSuNmmmx"
      },
      "source": [
        "# Pr(μ−σ ≤ x ≤ μ+σ) ≈ 0.683"
      ]
    },
    {
      "cell_type": "markdown",
      "metadata": {
        "id": "A4wLoUbonlCN"
      },
      "source": [
        "Amostra de tamanho 10 = o valor varia, mas a probabilidade de ser mais distante do valor esperado é maior, uma vez que é um número pequeno."
      ]
    },
    {
      "cell_type": "code",
      "metadata": {
        "colab": {
          "base_uri": "https://localhost:8080/",
          "height": 35
        },
        "id": "ujHu2aNZnCd6",
        "outputId": "483cf39c-c319-47c5-d127-cdb57f5e398e"
      },
      "source": [
        "x <- rnorm (10)\n",
        "media = mean(x)\n",
        "desvio = sd(x)\n",
        "prob = pnorm((media + desvio), media, 1) - pnorm((media - desvio), media, 1)\n",
        "prob\n"
      ],
      "execution_count": null,
      "outputs": [
        {
          "output_type": "display_data",
          "data": {
            "text/plain": [
              "[1] 0.7055948"
            ],
            "text/latex": "0.705594775370162",
            "text/markdown": "0.705594775370162",
            "text/html": [
              "0.705594775370162"
            ]
          },
          "metadata": {
            "tags": []
          }
        }
      ]
    },
    {
      "cell_type": "markdown",
      "metadata": {
        "id": "5x9WlUEiqD-A"
      },
      "source": [
        "Amostra de tamanho 10000:"
      ]
    },
    {
      "cell_type": "code",
      "metadata": {
        "colab": {
          "base_uri": "https://localhost:8080/",
          "height": 35
        },
        "id": "voJPy-HZp7gd",
        "outputId": "1d4f36f0-84bc-4fad-ba9d-5e2558b326f4"
      },
      "source": [
        "x <- rnorm (10000)\n",
        "media = mean(x)\n",
        "desvio = sd(x)\n",
        "prob2 = pnorm((media + desvio), media, 1) - pnorm((media - desvio), media, 1)\n",
        "prob2"
      ],
      "execution_count": null,
      "outputs": [
        {
          "output_type": "display_data",
          "data": {
            "text/plain": [
              "[1] 0.6842492"
            ],
            "text/latex": "0.684249206734287",
            "text/markdown": "0.684249206734287",
            "text/html": [
              "0.684249206734287"
            ]
          },
          "metadata": {
            "tags": []
          }
        }
      ]
    },
    {
      "cell_type": "markdown",
      "metadata": {
        "id": "NpKazbuppolh"
      },
      "source": [
        "# Pr(μ−1.282σ ≤ x ≤ μ+1.282σ) ≈ 0.8"
      ]
    },
    {
      "cell_type": "code",
      "metadata": {
        "colab": {
          "base_uri": "https://localhost:8080/",
          "height": 35
        },
        "id": "JN6ofdr7qp0H",
        "outputId": "70a1d5df-506b-47bd-ffee-c8dc7ef86fb6"
      },
      "source": [
        "x <- rnorm (10)\n",
        "media = mean(x)\n",
        "desvio = sd(x)\n",
        "prob = pnorm((media + 1.282*(desvio)), media, 1) - pnorm((media - 1.282*(desvio)), media, 1)\n",
        "prob"
      ],
      "execution_count": null,
      "outputs": [
        {
          "output_type": "display_data",
          "data": {
            "text/plain": [
              "[1] 0.7679583"
            ],
            "text/latex": "0.767958302363426",
            "text/markdown": "0.767958302363426",
            "text/html": [
              "0.767958302363426"
            ]
          },
          "metadata": {
            "tags": []
          }
        }
      ]
    },
    {
      "cell_type": "code",
      "metadata": {
        "colab": {
          "base_uri": "https://localhost:8080/",
          "height": 35
        },
        "id": "YGSPOrGxqZuG",
        "outputId": "288bd547-5aef-430d-9ac1-6105776fa4fe"
      },
      "source": [
        "x <- rnorm (10000)\n",
        "media = mean(x)\n",
        "desvio = sd(x)\n",
        "prob2 = pnorm((media + 1.282*(desvio)), media, 1) - pnorm((media - 1.282*(desvio)), media, 1)\n",
        "prob2"
      ],
      "execution_count": null,
      "outputs": [
        {
          "output_type": "display_data",
          "data": {
            "text/plain": [
              "[1] 0.8011956"
            ],
            "text/latex": "0.801195602106051",
            "text/markdown": "0.801195602106051",
            "text/html": [
              "0.801195602106051"
            ]
          },
          "metadata": {
            "tags": []
          }
        }
      ]
    },
    {
      "cell_type": "markdown",
      "metadata": {
        "id": "jbFYKwxZq0Rc"
      },
      "source": [
        "# Pr(μ−1.645σ ≤ x ≤ μ+1.645σ) ≈ 0.9"
      ]
    },
    {
      "cell_type": "code",
      "metadata": {
        "colab": {
          "base_uri": "https://localhost:8080/",
          "height": 35
        },
        "id": "cY-nRsVVrAoP",
        "outputId": "e06f07c8-6d7f-43e5-f990-70ead18630e4"
      },
      "source": [
        "x <- rnorm (10)\n",
        "media = mean(x)\n",
        "desvio = sd(x)\n",
        "prob = pnorm((media + 1.645*(desvio)), media, 1) - pnorm((media - 1.645*(desvio)), media, 1)\n",
        "prob"
      ],
      "execution_count": null,
      "outputs": [
        {
          "output_type": "display_data",
          "data": {
            "text/plain": [
              "[1] 0.9618393"
            ],
            "text/latex": "0.961839254322062",
            "text/markdown": "0.961839254322062",
            "text/html": [
              "0.961839254322062"
            ]
          },
          "metadata": {
            "tags": []
          }
        }
      ]
    },
    {
      "cell_type": "code",
      "metadata": {
        "colab": {
          "base_uri": "https://localhost:8080/",
          "height": 35
        },
        "id": "WJMdHAjTrA8Q",
        "outputId": "db6fd090-5fe4-4120-bebe-f4de5559e6a0"
      },
      "source": [
        "x <- rnorm (10000)\n",
        "media = mean(x)\n",
        "desvio = sd(x)\n",
        "prob2 = pnorm((media + 1.645*(desvio)), media, 1) - pnorm((media - 1.645*(desvio)), media, 1)\n",
        "prob2"
      ],
      "execution_count": null,
      "outputs": [
        {
          "output_type": "display_data",
          "data": {
            "text/plain": [
              "[1] 0.9030014"
            ],
            "text/latex": "0.90300137998523",
            "text/markdown": "0.90300137998523",
            "text/html": [
              "0.90300137998523"
            ]
          },
          "metadata": {
            "tags": []
          }
        }
      ]
    },
    {
      "cell_type": "markdown",
      "metadata": {
        "id": "etjEVhHOrRXO"
      },
      "source": [
        "# Pr(μ−1.96σ ≤ x ≤ μ+1.96σ) ≈ 0.95"
      ]
    },
    {
      "cell_type": "code",
      "metadata": {
        "colab": {
          "base_uri": "https://localhost:8080/",
          "height": 35
        },
        "id": "QXsry-76rf4V",
        "outputId": "12cd9cc9-606e-42cc-e4ee-e6d8a8ae8d40"
      },
      "source": [
        "x <- rnorm (10)\n",
        "media = mean(x)\n",
        "desvio = sd(x)\n",
        "prob = pnorm((media + 1.96*(desvio)), media, 1) - pnorm((media - 1.96*(desvio)), media, 1)\n",
        "prob"
      ],
      "execution_count": null,
      "outputs": [
        {
          "output_type": "display_data",
          "data": {
            "text/plain": [
              "[1] 0.9272185"
            ],
            "text/latex": "0.927218515710571",
            "text/markdown": "0.927218515710571",
            "text/html": [
              "0.927218515710571"
            ]
          },
          "metadata": {
            "tags": []
          }
        }
      ]
    },
    {
      "cell_type": "code",
      "metadata": {
        "colab": {
          "base_uri": "https://localhost:8080/",
          "height": 35
        },
        "id": "gSzz98lurgBS",
        "outputId": "c67e0d63-8757-41fe-9808-ec30024cfa5c"
      },
      "source": [
        "x <- rnorm (10000)\n",
        "media = mean(x)\n",
        "desvio = sd(x)\n",
        "prob2 = pnorm((media + 1.96*(desvio)), media, 1) - pnorm((media - 1.96*(desvio)), media, 1)\n",
        "prob2"
      ],
      "execution_count": null,
      "outputs": [
        {
          "output_type": "display_data",
          "data": {
            "text/plain": [
              "[1] 0.9484152"
            ],
            "text/latex": "0.948415225828045",
            "text/markdown": "0.948415225828045",
            "text/html": [
              "0.948415225828045"
            ]
          },
          "metadata": {
            "tags": []
          }
        }
      ]
    },
    {
      "cell_type": "markdown",
      "metadata": {
        "id": "mFACiDBXr1WD"
      },
      "source": [
        "# Pr(μ−2σ ≤ x ≤ μ+2σ) ≈ 0.954"
      ]
    },
    {
      "cell_type": "code",
      "metadata": {
        "colab": {
          "base_uri": "https://localhost:8080/",
          "height": 35
        },
        "id": "hoM5053Dr9z1",
        "outputId": "0f3c1eb7-bdb8-41a0-a8f0-439c48b5a06c"
      },
      "source": [
        "x <- rnorm (10)\n",
        "media = mean(x)\n",
        "desvio = sd(x)\n",
        "prob = pnorm((media + 2*(desvio)), media, 1) - pnorm((media - 2*(desvio)), media, 1)\n",
        "prob"
      ],
      "execution_count": null,
      "outputs": [
        {
          "output_type": "display_data",
          "data": {
            "text/plain": [
              "[1] 0.8862851"
            ],
            "text/latex": "0.886285113639731",
            "text/markdown": "0.886285113639731",
            "text/html": [
              "0.886285113639731"
            ]
          },
          "metadata": {
            "tags": []
          }
        }
      ]
    },
    {
      "cell_type": "code",
      "metadata": {
        "colab": {
          "base_uri": "https://localhost:8080/",
          "height": 35
        },
        "id": "I-2W9Kror97e",
        "outputId": "605316c4-bafb-46b4-e548-e7badebab304"
      },
      "source": [
        "x <- rnorm (10000)\n",
        "media = mean(x)\n",
        "desvio = sd(x)\n",
        "prob2 = pnorm((media + 2*(desvio)), media, 1) - pnorm((media - 2*(desvio)), media, 1)\n",
        "prob2"
      ],
      "execution_count": null,
      "outputs": [
        {
          "output_type": "display_data",
          "data": {
            "text/plain": [
              "[1] 0.9518551"
            ],
            "text/latex": "0.951855060183181",
            "text/markdown": "0.951855060183181",
            "text/html": [
              "0.951855060183181"
            ]
          },
          "metadata": {
            "tags": []
          }
        }
      ]
    },
    {
      "cell_type": "markdown",
      "metadata": {
        "id": "I2CV2_fmsQ6y"
      },
      "source": [
        "# Pr(μ−2.57σ ≤ x ≤ μ+2.57σ) ≈ 0.99"
      ]
    },
    {
      "cell_type": "code",
      "metadata": {
        "colab": {
          "base_uri": "https://localhost:8080/",
          "height": 35
        },
        "id": "MXeMD6fosW9Z",
        "outputId": "31e5bf2a-1777-4642-c162-15614fac892f"
      },
      "source": [
        "x <- rnorm (10)\n",
        "media = mean(x)\n",
        "desvio = sd(x)\n",
        "prob = pnorm((media + 2.57*(desvio)), media, 1) - pnorm((media - 2.57*(desvio)), media, 1)\n",
        "prob"
      ],
      "execution_count": null,
      "outputs": [
        {
          "output_type": "display_data",
          "data": {
            "text/plain": [
              "[1] 0.9326321"
            ],
            "text/latex": "0.932632143086124",
            "text/markdown": "0.932632143086124",
            "text/html": [
              "0.932632143086124"
            ]
          },
          "metadata": {
            "tags": []
          }
        }
      ]
    },
    {
      "cell_type": "code",
      "metadata": {
        "colab": {
          "base_uri": "https://localhost:8080/",
          "height": 35
        },
        "id": "TYUgsnDysXBH",
        "outputId": "0300ab17-1102-4479-af95-15b2ef0e5b20"
      },
      "source": [
        "x <- rnorm (10000)\n",
        "media = mean(x)\n",
        "desvio = sd(x)\n",
        "prob2 = pnorm((media + 2.57*(desvio)), media, 1) - pnorm((media - 2.57*(desvio)), media, 1)\n",
        "prob2"
      ],
      "execution_count": null,
      "outputs": [
        {
          "output_type": "display_data",
          "data": {
            "text/plain": [
              "[1] 0.9900816"
            ],
            "text/latex": "0.990081623128455",
            "text/markdown": "0.990081623128455",
            "text/html": [
              "0.990081623128455"
            ]
          },
          "metadata": {
            "tags": []
          }
        }
      ]
    },
    {
      "cell_type": "markdown",
      "metadata": {
        "id": "ga3rUl-hsijK"
      },
      "source": [
        "# Pr(μ−3σ ≤ x ≤ μ+3σ) ≈ 0.997"
      ]
    },
    {
      "cell_type": "code",
      "metadata": {
        "colab": {
          "base_uri": "https://localhost:8080/",
          "height": 35
        },
        "id": "m8QPcl8wsqjD",
        "outputId": "0edc7d04-3b56-482c-d87d-a34a4d81b565"
      },
      "source": [
        "x <- rnorm (10)\n",
        "media = mean(x)\n",
        "desvio = sd(x)\n",
        "prob = pnorm((media + 3*(desvio)), media, 1) - pnorm((media - 3*(desvio)), media, 1)\n",
        "prob"
      ],
      "execution_count": null,
      "outputs": [
        {
          "output_type": "display_data",
          "data": {
            "text/plain": [
              "[1] 0.9997271"
            ],
            "text/latex": "0.999727076220357",
            "text/markdown": "0.999727076220357",
            "text/html": [
              "0.999727076220357"
            ]
          },
          "metadata": {
            "tags": []
          }
        }
      ]
    },
    {
      "cell_type": "code",
      "metadata": {
        "colab": {
          "base_uri": "https://localhost:8080/",
          "height": 35
        },
        "id": "D5HF580YsqrG",
        "outputId": "25339eff-b673-4713-e693-c1dae88e4b23"
      },
      "source": [
        "x <- rnorm (10000)\n",
        "media = mean(x)\n",
        "desvio = sd(x)\n",
        "prob2 = pnorm((media + 3*(desvio)), media, 1) - pnorm((media - 3*(desvio)), media, 1)\n",
        "prob2"
      ],
      "execution_count": null,
      "outputs": [
        {
          "output_type": "display_data",
          "data": {
            "text/plain": [
              "[1] 0.9972207"
            ],
            "text/latex": "0.997220714479759",
            "text/markdown": "0.997220714479759",
            "text/html": [
              "0.997220714479759"
            ]
          },
          "metadata": {
            "tags": []
          }
        }
      ]
    },
    {
      "cell_type": "markdown",
      "metadata": {
        "id": "Sje8cpHxs9cc"
      },
      "source": [
        "# **3- Lei dos Grandes Números**\n",
        "\n"
      ]
    },
    {
      "cell_type": "markdown",
      "metadata": {
        "id": "fDD9ULQgtZmi"
      },
      "source": [
        "A lei dos grandes números nos diz que a média aritimética do resultado da mesma experiência realizada repetidas vezes tende sempre a se aproximar do valor esperado. \n",
        "<br>\n",
        "Por exemplo, X é uma variável aleatória que representa o lançaamento de uma moeda honesta, na qual X(cara) = 0 e X(coroa) = 1. Se lançarmos essa moeda n vezes, teremos que a média aritmética dos valores observados tendem a 1/2, ou seja, tendem a E[X].\n",
        "<br>\n",
        "Nesse trabalho, devemos considerar uma moeda viciada onde X(cara) =\n",
        "0, X(coroa) = 1. P r(X = 0) = 0.3, logo, P r(X = 1) = 0.7. \n",
        "<br>\n",
        "Portanto, o\n",
        "valor esperado é E[X] = 0.7.\n"
      ]
    },
    {
      "cell_type": "code",
      "metadata": {
        "colab": {
          "base_uri": "https://localhost:8080/",
          "height": 437
        },
        "id": "uSD72vzGtI32",
        "outputId": "fed64e9e-e6ec-4d59-bebc-3209526d9d4c"
      },
      "source": [
        "die <- 0:1\n",
        "roll <- function(n) \n",
        "{\n",
        "  media = mean(sample (die, size = n, replace = TRUE, prob = c(0.3, 0.7)))\n",
        "}\n",
        "vetor = seq(from = 1 , to = 10000, by = 50)\n",
        "plot(sapply (vetor, roll), type = \"l\", xlab = \"Numero de jogadas\", ylab= \"Probabilidade para Coroa\", main= \"Moeda viciada : P(Coroa) = 0.7\")\n",
        "abline(h = 0.7, col = \"red\")\n"
      ],
      "execution_count": null,
      "outputs": [
        {
          "output_type": "display_data",
          "data": {
            "image/png": "[encoded data removed]",
            "text/plain": [
              "Plot with title “Moeda viciada : P(Coroa) = 0.7”"
            ]
          },
          "metadata": {
            "tags": [],
            "image/png": {
              "width": 420,
              "height": 420
            }
          }
        }
      ]
    },
    {
      "cell_type": "markdown",
      "metadata": {
        "id": "B4cSDzp65whs"
      },
      "source": [
        "# **4- Teorema do Limite Central**"
      ]
    },
    {
      "cell_type": "markdown",
      "metadata": {
        "id": "pFeQ4RDmxRIR"
      },
      "source": [
        "De acordo com o Teorema do Limite Central, a distribuição amostral tende a se aproximar da distribuição normal, conforme observa-se pelo histograma abaixo. \n",
        "<br>\n",
        "Além disso, a média amostral obtida é muito similar a média da população, conforme diz o TLC. Já a variância é representada pela variância da população dividida pelo tamanho da amostra (1000).\n",
        "<br>\n",
        "Logo, sim, os valores obtidos são próximos aos valores teóricos, exceto a variância, que deve mesmo ser maior que seu valor teórico."
      ]
    },
    {
      "cell_type": "code",
      "metadata": {
        "colab": {
          "base_uri": "https://localhost:8080/",
          "height": 437
        },
        "id": "OeK__SGK6ROI",
        "outputId": "fd515d88-3d50-4e2b-8075-c7efbb2b91df"
      },
      "source": [
        "amostra= 1000\n",
        "n = 40\n",
        "lambda = 0.2\n",
        "amostra = rexp(n, rate = lambda)\n",
        "myhist <- hist(amostra, col = \"gold\", xlab = \"Média amostral\", main = \"Histograma da distribuição amostral\")\n",
        "multiplier <- myhist$counts / myhist$density\n",
        "mydensity <- density(amostra)\n",
        "mydensity$y <- mydensity$y * multiplier[1]\n",
        "\n",
        "lines(mydensity)"
      ],
      "execution_count": null,
      "outputs": [
        {
          "output_type": "display_data",
          "data": {
            "image/png": "[encoded data removed]",
            "text/plain": [
              "Plot with title “Histograma da distribuição amostral”"
            ]
          },
          "metadata": {
            "tags": [],
            "image/png": {
              "width": 420,
              "height": 420
            }
          }
        }
      ]
    },
    {
      "cell_type": "code",
      "metadata": {
        "colab": {
          "base_uri": "https://localhost:8080/",
          "height": 51
        },
        "id": "LYDy9Ebo2rsw",
        "outputId": "7379f9f2-460d-41ab-bf10-73a9485fca3f"
      },
      "source": [
        "media = mean(amostra)\n",
        "variancia = var(amostra)\n",
        "media\n",
        "variancia"
      ],
      "execution_count": null,
      "outputs": [
        {
          "output_type": "display_data",
          "data": {
            "text/plain": [
              "[1] 5.796482"
            ],
            "text/latex": "5.79648183103105",
            "text/markdown": "5.79648183103105",
            "text/html": [
              "5.79648183103105"
            ]
          },
          "metadata": {
            "tags": []
          }
        },
        {
          "output_type": "display_data",
          "data": {
            "text/plain": [
              "[1] 41.37706"
            ],
            "text/latex": "41.3770641687212",
            "text/markdown": "41.3770641687212",
            "text/html": [
              "41.3770641687212"
            ]
          },
          "metadata": {
            "tags": []
          }
        }
      ]
    },
    {
      "cell_type": "markdown",
      "metadata": {
        "id": "Haq8Oqnz9gzD"
      },
      "source": [
        "# **5- Distribuições Amostrais**"
      ]
    },
    {
      "cell_type": "markdown",
      "metadata": {
        "id": "DQVFLDBu-AKE"
      },
      "source": [
        "Histograma da distribuição da população subjacente:"
      ]
    },
    {
      "cell_type": "code",
      "metadata": {
        "colab": {
          "base_uri": "https://localhost:8080/",
          "height": 437
        },
        "id": "eiMq3fq19_6o",
        "outputId": "04c3ae3a-50e6-47b5-ce7e-e3d6b9a46504"
      },
      "source": [
        "valoresBatata <- 10:20\n",
        "sacoBatata <- sample (valoresBatata, size = 1000, replace = TRUE)\n",
        "hist(sacoBatata, main = \"Histograma\", xlab = \"Quantidade de batatas\", col = \"lightgreen\")"
      ],
      "execution_count": null,
      "outputs": [
        {
          "output_type": "display_data",
          "data": {
            "image/png": "[encoded data removed]",
            "text/plain": [
              "Plot with title “Histograma”"
            ]
          },
          "metadata": {
            "tags": [],
            "image/png": {
              "width": 420,
              "height": 420
            }
          }
        }
      ]
    },
    {
      "cell_type": "markdown",
      "metadata": {
        "id": "_pf6P9-m_g7-"
      },
      "source": [
        "Média, variância e desvio padrão da distribuição:"
      ]
    },
    {
      "cell_type": "code",
      "metadata": {
        "colab": {
          "base_uri": "https://localhost:8080/",
          "height": 68
        },
        "id": "fPH6P0jI_hIk",
        "outputId": "32316147-e9a2-418a-a82a-9ed50992dc73"
      },
      "source": [
        "media2 = mean(sacoBatata)\n",
        "variancia2 = var(sacoBatata)\n",
        "desvio2 = sd(sacoBatata)\n",
        "media2\n",
        "variancia2\n",
        "desvio2"
      ],
      "execution_count": null,
      "outputs": [
        {
          "output_type": "display_data",
          "data": {
            "text/plain": [
              "[1] 15.202"
            ],
            "text/latex": "15.202",
            "text/markdown": "15.202",
            "text/html": [
              "15.202"
            ]
          },
          "metadata": {
            "tags": []
          }
        },
        {
          "output_type": "display_data",
          "data": {
            "text/plain": [
              "[1] 10.28148"
            ],
            "text/latex": "10.2814774774775",
            "text/markdown": "10.2814774774775",
            "text/html": [
              "10.2814774774775"
            ]
          },
          "metadata": {
            "tags": []
          }
        },
        {
          "output_type": "display_data",
          "data": {
            "text/plain": [
              "[1] 3.206474"
            ],
            "text/latex": "3.20647430638037",
            "text/markdown": "3.20647430638037",
            "text/html": [
              "3.20647430638037"
            ]
          },
          "metadata": {
            "tags": []
          }
        }
      ]
    },
    {
      "cell_type": "markdown",
      "metadata": {
        "id": "qgIyVlbrA8kh"
      },
      "source": [
        "Gráfico da distribuição amostral da média para n = 2:"
      ]
    },
    {
      "cell_type": "code",
      "metadata": {
        "colab": {
          "base_uri": "https://localhost:8080/",
          "height": 437
        },
        "id": "qEPKc-UxA8VP",
        "outputId": "800346e1-87a0-4b17-8e22-0b325ecdf6cf"
      },
      "source": [
        "combinacao <- combn(sacoBatata, 2)\n",
        "combBatata <- colMeans(combinacao)\n",
        "hist(combBatata, col = \"lightblue\", main = \"Distribuição amostral da média para n = 2\", xlab= \"Amostras\")\n",
        "abline(v = mean(combBatata), col = \"red\", lwd = 2)\n",
        "tableCombBatata = table(combBatata)\n",
        "probabilidadeComBatata = prop.table(tableCombBatata)"
      ],
      "execution_count": null,
      "outputs": [
        {
          "output_type": "display_data",
          "data": {
            "image/png": "[encoded data removed]",
            "text/plain": [
              "Plot with title “Distribuição amostral da média para n = 2”"
            ]
          },
          "metadata": {
            "tags": [],
            "image/png": {
              "width": 420,
              "height": 420
            }
          }
        }
      ]
    },
    {
      "cell_type": "markdown",
      "metadata": {
        "id": "bTDGgDLYCzEv"
      },
      "source": [
        "Média, variância e desvio padrão da distribuição para n = 2:"
      ]
    },
    {
      "cell_type": "code",
      "metadata": {
        "colab": {
          "base_uri": "https://localhost:8080/",
          "height": 68
        },
        "id": "KLBjrxinCzVj",
        "outputId": "161bb4eb-779a-45c8-a891-ba7a6160194d"
      },
      "source": [
        "media3= mean(combBatata)\n",
        "variancia3 = var(combBatata)\n",
        "desvio3 = sd(combBatata)\n",
        "media3\n",
        "variancia3\n",
        "desvio3"
      ],
      "execution_count": null,
      "outputs": [
        {
          "output_type": "display_data",
          "data": {
            "text/plain": [
              "[1] 15.202"
            ],
            "text/latex": "15.202",
            "text/markdown": "15.202",
            "text/html": [
              "15.202"
            ]
          },
          "metadata": {
            "tags": []
          }
        },
        {
          "output_type": "display_data",
          "data": {
            "text/plain": [
              "[1] 5.130468"
            ],
            "text/latex": "5.13046753246752",
            "text/markdown": "5.13046753246752",
            "text/html": [
              "5.13046753246752"
            ]
          },
          "metadata": {
            "tags": []
          }
        },
        {
          "output_type": "display_data",
          "data": {
            "text/plain": [
              "[1] 2.265054"
            ],
            "text/latex": "2.2650535385433",
            "text/markdown": "2.2650535385433",
            "text/html": [
              "2.2650535385433"
            ]
          },
          "metadata": {
            "tags": []
          }
        }
      ]
    },
    {
      "cell_type": "markdown",
      "metadata": {
        "id": "LKaRmInxDW0z"
      },
      "source": [
        "De acordo com o Teorema do Limite Central, para amostras aleatórias simples (X1, X2, ..., Xn), retiradas de uma população com média µ e variância $\\sigma^{2}$ finita, a distribuição amostral da média, X, aproxima-se, conforme n cresce, de uma distribuição normal, com média µ e desvio padrão $\\frac{\\sqrt{\\sigma}}{n}$.\n",
        "<br>\n",
        "Após calcular, podemos ver que a média e o desvio padrão\n",
        "se aproximam bastante dos valores obtidos do item anterior. \n",
        "<br>\n",
        "Média = 15 e desvio padrão = 2.2117621689259."
      ]
    },
    {
      "cell_type": "code",
      "metadata": {
        "colab": {
          "base_uri": "https://localhost:8080/",
          "height": 51
        },
        "id": "F1a_mhw_DXGP",
        "outputId": "f048c1b4-1845-4b01-f147-cbbcc4fa56ae"
      },
      "source": [
        "media4 = mean(combBatata)\n",
        "desvio4 = desvio2/(sqrt(2))\n",
        "media4\n",
        "desvio4\n"
      ],
      "execution_count": null,
      "outputs": [
        {
          "output_type": "display_data",
          "data": {
            "text/plain": [
              "[1] 15.202"
            ],
            "text/latex": "15.202",
            "text/markdown": "15.202",
            "text/html": [
              "15.202"
            ]
          },
          "metadata": {
            "tags": []
          }
        },
        {
          "output_type": "display_data",
          "data": {
            "text/plain": [
              "[1] 2.26732"
            ],
            "text/latex": "2.26731972574199",
            "text/markdown": "2.26731972574199",
            "text/html": [
              "2.26731972574199"
            ]
          },
          "metadata": {
            "tags": []
          }
        }
      ]
    },
    {
      "cell_type": "markdown",
      "metadata": {
        "id": "_vVmOmGmNSij"
      },
      "source": [
        "**Item 6** - Calcular a média de uma amostra é uma forma de tentar se aproximar da média da população, uma vez que a média de todas as médias\n",
        "amostrais tende a média populacional. \n",
        "<br>\n",
        "Conforme o tamanho da amostra aumenta, as observações ficam cada vez mais concentradas em torno\n",
        "desse parâmetro.\n",
        "<br>\n",
        "Entretanto, com uma amostra de tamanho 2 temos\n",
        "apenas um valor particular (estimador por ponto), não permitindo ter\n",
        "uma ideia do erro cometido ao se fazer a estimativa. Para isso, seria\n",
        "preciso construir um intervalo em torno da estimativa por ponto."
      ]
    },
    {
      "cell_type": "markdown",
      "metadata": {
        "id": "OqnxpUjfmIbt"
      },
      "source": [
        "**Item 7**- A amplitude é o malor menos o menor valor da população. Amplitude de 20 -10 = 10.\n"
      ]
    },
    {
      "cell_type": "code",
      "metadata": {
        "colab": {
          "base_uri": "https://localhost:8080/",
          "height": 34
        },
        "id": "n7ZiRpPIlzdK",
        "outputId": "a195630b-ef2e-4584-a3ea-af499c52c4e5"
      },
      "source": [
        "amplitude = (max(sacoBatata) - min(sacoBatata))\n",
        "amplitude"
      ],
      "execution_count": null,
      "outputs": [
        {
          "output_type": "display_data",
          "data": {
            "text/plain": [
              "[1] 10"
            ],
            "text/latex": "10",
            "text/markdown": "10",
            "text/html": [
              "10"
            ]
          },
          "metadata": {
            "tags": []
          }
        }
      ]
    },
    {
      "cell_type": "markdown",
      "metadata": {
        "id": "FkUMFEebmzj-"
      },
      "source": [
        "**Item 8-** Distribuição amostral da amplitude amostral, para n = 2:"
      ]
    },
    {
      "cell_type": "code",
      "metadata": {
        "colab": {
          "base_uri": "https://localhost:8080/",
          "height": 437
        },
        "id": "KCkdoCO4mz7v",
        "outputId": "477e7ad8-739b-4e89-98ad-f71d16209c62"
      },
      "source": [
        "tamanho = 10000\n",
        "gerarAmplitude = rep (NA, tamanho)\n",
        "for(i in 1:tamanho) {\n",
        "  amostra = sample(sacoBatata, 2, replace = TRUE)\n",
        "  gerarAmplitude[i] = max(amostra) - min(amostra)\n",
        "}\n",
        "hist(gerarAmplitude, col= \"purple\", main = \"Distribui o amostral da amplitude amostral para n = 2\", xlab = \"Amplitude\")"
      ],
      "execution_count": null,
      "outputs": [
        {
          "output_type": "display_data",
          "data": {
            "image/png": "[encoded data removed]",
            "text/plain": [
              "Plot with title “Distribui o amostral da amplitude amostral para n = 2”"
            ]
          },
          "metadata": {
            "tags": [],
            "image/png": {
              "width": 420,
              "height": 420
            }
          }
        }
      ]
    },
    {
      "cell_type": "markdown",
      "metadata": {
        "id": "OCWi5eP6pOGW"
      },
      "source": [
        "**Item 9-** É possível observar no gráfico abaixo que a amplitude das amostras estão concentradas em valores distantes da amplitude populacional, que corresponde ao valor 10. \n",
        "<br>\n",
        "Portanto, é preciso ter atenção ao utilizá-la, pois\n",
        "basta haver uma ou mais observações com valores muito maiores ou\n",
        "muito menores dos demais para que a amplitude não reflita a disperção\n",
        "do conjunto dos dados.\n"
      ]
    },
    {
      "cell_type": "code",
      "metadata": {
        "colab": {
          "base_uri": "https://localhost:8080/",
          "height": 437
        },
        "id": "R2fN-zTXpOPZ",
        "outputId": "f55e5884-9e5d-4d05-b0ef-450790a5471d"
      },
      "source": [
        "tamanho = 10000\n",
        "gerarAmplitude = rep (NA, tamanho)\n",
        "for(i in 1:tamanho) {\n",
        "  amostra = sample(sacoBatata, 2, replace = TRUE)\n",
        "  gerarAmplitude[i] = max(amostra) - min(amostra)\n",
        "}\n",
        "hist(gerarAmplitude, col= \"orange\", main = \"Distribui o amostral da amplitude amostral para n = 2\", xlab = \"Amplitude\")\n",
        "abline(v = amplitude, col = \"red\", lwd = 2)"
      ],
      "execution_count": null,
      "outputs": [
        {
          "output_type": "display_data",
          "data": {
            "image/png": "[encoded data removed]",
            "text/plain": [
              "Plot with title “Distribui o amostral da amplitude amostral para n = 2”"
            ]
          },
          "metadata": {
            "tags": [],
            "image/png": {
              "width": 420,
              "height": 420
            }
          }
        }
      ]
    }
  ]
}